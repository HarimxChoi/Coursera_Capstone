{
 "cells": [
  {
   "cell_type": "markdown",
   "metadata": {},
   "source": [
    "## The Battle of Neighborhoods\n",
    " # Introduction\n",
    "   A large auto parts company, Best Auto Parts Ltd, is finding area for new branch in South Korea.\n",
    "  They find the right place for their new factory site in Gyeonggi-do.\n",
    "  So, to decide new factory site we should consider the transport infrastructure(ex.rail way, harbor, airport), \n",
    "  labor level of Gyeonggi-do, residential area and other SOC level, customer factory's distance(ex. GM, Hyudai, Kia),\n",
    "  , and most of all Land price.\n",
    "  \n",
    " # Data\n",
    "  1. Transport infrastructure data\n",
    "   * Harbor\n",
    "   * Train Station\n",
    "   * Airport\n",
    "   * Highway accessibility\n",
    "   (source: Foursqure)\n",
    "   \n",
    "  2. Labor level of Gyeonggi-do's cities\n",
    "   * Labor force trend\n",
    "   * Labor force by industry\n",
    "   * Labor force by age\n",
    "   * Wage level\n",
    "   * Education level\n",
    "   (source: http://kosis.kr/ ; Korean Statistical Information service)\n",
    "   \n",
    "  3. Residential Area and other SOC level\n",
    "   * Hospital\n",
    "   * Shool\n",
    "   * Cultural facilities\n",
    "   (source: Foursqure)\n",
    "   \n",
    "  4. Customer factory's distance\n",
    "   * GM\n",
    "   * Hyundai\n",
    "   * Kia\n",
    "   (source: Foursqure)\n",
    "   \n",
    "  5. Land price\n",
    "  (source: http://www.investkorea.or.kr/)"
   ]
  }
 ],
 "metadata": {
  "kernelspec": {
   "display_name": "Python",
   "language": "python",
   "name": "conda-env-python-py"
  },
  "language_info": {
   "codemirror_mode": {
    "name": "ipython",
    "version": 3
   },
   "file_extension": ".py",
   "mimetype": "text/x-python",
   "name": "python",
   "nbconvert_exporter": "python",
   "pygments_lexer": "ipython3",
   "version": "3.6.7"
  }
 },
 "nbformat": 4,
 "nbformat_minor": 4
}
